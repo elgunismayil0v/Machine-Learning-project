{
 "cells": [
  {
   "cell_type": "code",
   "execution_count": 7,
   "metadata": {},
   "outputs": [
    {
     "name": "stdout",
     "output_type": "stream",
     "text": [
      "hello!\n",
      "   Serial Number  List Year Date Recorded     Town                Address  \\\n",
      "0        2020348       2020     9/13/2021  Ansonia        230 WAKELEE AVE   \n",
      "1          20002       2020     10/2/2020  Ashford        390 TURNPIKE RD   \n",
      "2         200212       2020      3/9/2021     Avon       5 CHESTNUT DRIVE   \n",
      "3         200243       2020     4/13/2021     Avon  111 NORTHINGTON DRIVE   \n",
      "4         200377       2020      7/2/2021     Avon     70 FAR HILLS DRIVE   \n",
      "\n",
      "   Assessed Value  Sale Amount  Sales Ratio Property Type Residential Type  \\\n",
      "0          150500     325000.0       0.4630    Commercial              Nan   \n",
      "1          253000     430000.0       0.5883   Residential    Single Family   \n",
      "2          130400     179900.0       0.7248   Residential            Condo   \n",
      "3          619290     890000.0       0.6958   Residential    Single Family   \n",
      "4          862330    1447500.0       0.5957   Residential    Single Family   \n",
      "\n",
      "   Years until sold  \n",
      "0                 1  \n",
      "1                 0  \n",
      "2                 1  \n",
      "3                 1  \n",
      "4                 1  \n"
     ]
    }
   ],
   "source": [
    "import pandas as pd\n",
    "data=pd.read_csv(\"Real_Estate_Sales_2001-2020_GL.csv\")\n",
    "\n",
    "x=pd.DataFrame(data)\n",
    "print(\"hello!\")\n",
    "x=data.head()\n",
    "print(x)\n",
    "\n",
    "\n"
   ]
  }
 ],
 "metadata": {
  "kernelspec": {
   "display_name": "Python 3",
   "language": "python",
   "name": "python3"
  },
  "language_info": {
   "codemirror_mode": {
    "name": "ipython",
    "version": 3
   },
   "file_extension": ".py",
   "mimetype": "text/x-python",
   "name": "python",
   "nbconvert_exporter": "python",
   "pygments_lexer": "ipython3",
   "version": "3.12.0"
  }
 },
 "nbformat": 4,
 "nbformat_minor": 2
}
